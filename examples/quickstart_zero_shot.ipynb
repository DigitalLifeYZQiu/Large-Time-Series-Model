{
 "cells": [
  {
   "cell_type": "code",
   "execution_count": null,
   "metadata": {},
   "outputs": [],
   "source": [
    "import torch\n",
    "import pandas as pd\n",
    "import matplotlib.pyplot as plt\n",
    "from transformers import AutoModelForCausalLM"
   ]
  },
  {
   "cell_type": "code",
   "execution_count": null,
   "metadata": {},
   "outputs": [],
   "source": [
    "# load model and dataset\n",
    "model = AutoModelForCausalLM.from_pretrained('thuml/timer-base-84m', trust_remote_code=True)\n",
    "df = pd.read_csv(\"https://raw.githubusercontent.com/WenWeiTHU/TimeSeriesDatasets/refs/heads/main/ETT-small/ETTh2.csv\")"
   ]
  },
  {
   "cell_type": "code",
   "execution_count": null,
   "metadata": {},
   "outputs": [],
   "source": [
    "# perpare input\n",
    "lookback_length = 1440      # support the maximum context length up to 2880 \n",
    "seqs = torch.tensor(df[\"OT\"][:lookback_length]).unsqueeze(0).float()"
   ]
  },
  {
   "cell_type": "code",
   "execution_count": null,
   "metadata": {},
   "outputs": [],
   "source": [
    "# generate forecast \n",
    "prediction_length = 288     # forecast the next 288 timestamps, supporting maximum prediction length encompassed in the context length\n",
    "output = model.generate(seqs, max_new_tokens=prediction_length)"
   ]
  },
  {
   "cell_type": "code",
   "execution_count": null,
   "metadata": {},
   "outputs": [],
   "source": [
    "print(output.shape)"
   ]
  },
  {
   "cell_type": "code",
   "execution_count": null,
   "metadata": {},
   "outputs": [],
   "source": [
    "# plot the prediction\n",
    "\n",
    "plt.figure(figsize=(12, 4))\n",
    "plt.plot(df[\"OT\"][:lookback_length + prediction_length], color=\"limegreen\", label=\"Groundtruth\")\n",
    "plt.plot(range(lookback_length, lookback_length + prediction_length), output[0], color=\"tomato\", label=\"Prediction\")\n",
    "plt.plot(df[\"OT\"][:lookback_length], color=\"royalblue\", label=\"Lookback\")\n",
    "plt.legend()\n",
    "plt.grid()\n",
    "plt.show()"
   ]
  }
 ],
 "metadata": {
  "kernelspec": {
   "display_name": "py310",
   "language": "python",
   "name": "python3"
  },
  "language_info": {
   "codemirror_mode": {
    "name": "ipython",
    "version": 3
   },
   "file_extension": ".py",
   "mimetype": "text/x-python",
   "name": "python",
   "nbconvert_exporter": "python",
   "pygments_lexer": "ipython3",
   "version": "3.10.15"
  }
 },
 "nbformat": 4,
 "nbformat_minor": 2
}
